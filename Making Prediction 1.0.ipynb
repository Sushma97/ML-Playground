{
 "cells": [
  {
   "cell_type": "markdown",
   "metadata": {},
   "source": [
    "### Loading the saved model"
   ]
  },
  {
   "cell_type": "code",
   "execution_count": 109,
   "metadata": {},
   "outputs": [],
   "source": [
    "import pandas as pd\n",
    "from joblib import load"
   ]
  },
  {
   "cell_type": "code",
   "execution_count": 110,
   "metadata": {},
   "outputs": [],
   "source": [
    "class CarPredictionModel():\n",
    "    \n",
    "    def __init__(self, model, features, rmse):\n",
    "        self.model = model\n",
    "        self.features = features\n",
    "        seld.rmse = rmse"
   ]
  },
  {
   "cell_type": "code",
   "execution_count": 111,
   "metadata": {},
   "outputs": [],
   "source": [
    "model_v1 = load(\"cars.pkl\")"
   ]
  },
  {
   "cell_type": "code",
   "execution_count": 112,
   "metadata": {},
   "outputs": [
    {
     "data": {
      "text/plain": [
       "LinearRegression()"
      ]
     },
     "execution_count": 112,
     "metadata": {},
     "output_type": "execute_result"
    }
   ],
   "source": [
    "model_v1.model"
   ]
  },
  {
   "cell_type": "code",
   "execution_count": 113,
   "metadata": {},
   "outputs": [
    {
     "data": {
      "text/plain": [
       "1.287918529051147"
      ]
     },
     "execution_count": 113,
     "metadata": {},
     "output_type": "execute_result"
    }
   ],
   "source": [
    "model_v1.rmse"
   ]
  },
  {
   "cell_type": "code",
   "execution_count": 114,
   "metadata": {},
   "outputs": [
    {
     "data": {
      "text/plain": [
       "['KM_Driven',\n",
       " 'Seats',\n",
       " 'mileage_new',\n",
       " 'engine_new',\n",
       " 'power_new',\n",
       " 'age',\n",
       " 'Fuel_Type_Diesel',\n",
       " 'Fuel_Type_Petrol',\n",
       " 'Transmission_Automatic',\n",
       " 'Transmission_Manual',\n",
       " 'Owner_Type_First',\n",
       " 'Owner_Type_Second',\n",
       " 'Owner_Type_Third',\n",
       " 'make_audi',\n",
       " 'make_bmw',\n",
       " 'make_chevrolet',\n",
       " 'make_datsun',\n",
       " 'make_fiat',\n",
       " 'make_force',\n",
       " 'make_ford',\n",
       " 'make_honda',\n",
       " 'make_hyundai',\n",
       " 'make_isuzu',\n",
       " 'make_jaguar',\n",
       " 'make_jeep',\n",
       " 'make_land',\n",
       " 'make_mahindra',\n",
       " 'make_maruti',\n",
       " 'make_mercedes-benz',\n",
       " 'make_mini',\n",
       " 'make_mitsubishi',\n",
       " 'make_nissan',\n",
       " 'make_porsche',\n",
       " 'make_renault',\n",
       " 'make_skoda',\n",
       " 'make_tata',\n",
       " 'make_toyota',\n",
       " 'make_volkswagen',\n",
       " 'make_volvo',\n",
       " 'Location_Ahmedabad',\n",
       " 'Location_Bangalore',\n",
       " 'Location_Chennai',\n",
       " 'Location_Coimbatore',\n",
       " 'Location_Delhi',\n",
       " 'Location_Hyderabad',\n",
       " 'Location_Jaipur',\n",
       " 'Location_Kochi',\n",
       " 'Location_Kolkata',\n",
       " 'Location_Mumbai',\n",
       " 'Location_Pune',\n",
       " 'model_1',\n",
       " 'model_3',\n",
       " 'model_5',\n",
       " 'model_7',\n",
       " 'model_800',\n",
       " 'model_a',\n",
       " 'model_a-star',\n",
       " 'model_a3',\n",
       " 'model_a4',\n",
       " 'model_a6',\n",
       " 'model_accent',\n",
       " 'model_accord',\n",
       " 'model_alto',\n",
       " 'model_amaze',\n",
       " 'model_ameo',\n",
       " 'model_aspire',\n",
       " 'model_aveo',\n",
       " 'model_avventura',\n",
       " 'model_b',\n",
       " 'model_baleno',\n",
       " 'model_beat',\n",
       " 'model_bolero',\n",
       " 'model_bolt',\n",
       " 'model_br-v',\n",
       " 'model_brio',\n",
       " 'model_brv',\n",
       " 'model_camry',\n",
       " 'model_captur',\n",
       " 'model_cayenne',\n",
       " 'model_celerio',\n",
       " 'model_ciaz',\n",
       " 'model_city',\n",
       " 'model_civic',\n",
       " 'model_classic',\n",
       " 'model_compass',\n",
       " 'model_cooper',\n",
       " 'model_corolla',\n",
       " 'model_cr-v',\n",
       " 'model_creta',\n",
       " 'model_crosspolo',\n",
       " 'model_cruze',\n",
       " 'model_d-max',\n",
       " 'model_duster',\n",
       " 'model_dzire',\n",
       " 'model_e-class',\n",
       " 'model_ecosport',\n",
       " 'model_eeco',\n",
       " 'model_elantra',\n",
       " 'model_elite',\n",
       " 'model_endeavour',\n",
       " 'model_enjoy',\n",
       " 'model_eon',\n",
       " 'model_ertiga',\n",
       " 'model_etios',\n",
       " 'model_fabia',\n",
       " 'model_fiesta',\n",
       " 'model_figo',\n",
       " 'model_fluence',\n",
       " 'model_fortuner',\n",
       " 'model_freestyle',\n",
       " 'model_gla',\n",
       " 'model_go',\n",
       " 'model_grand',\n",
       " 'model_grande',\n",
       " 'model_hexa',\n",
       " 'model_i10',\n",
       " 'model_i20',\n",
       " 'model_ignis',\n",
       " 'model_indica',\n",
       " 'model_indigo',\n",
       " 'model_innova',\n",
       " 'model_jazz',\n",
       " 'model_jetta',\n",
       " 'model_koleos',\n",
       " 'model_kuv',\n",
       " 'model_kwid',\n",
       " 'model_laura',\n",
       " 'model_linea',\n",
       " 'model_lodgy',\n",
       " 'model_logan',\n",
       " 'model_m-class',\n",
       " 'model_manza',\n",
       " 'model_micra',\n",
       " 'model_mobilio',\n",
       " 'model_nano',\n",
       " 'model_new',\n",
       " 'model_nexon',\n",
       " 'model_nuvosport',\n",
       " 'model_octavia',\n",
       " 'model_omni',\n",
       " 'model_one',\n",
       " 'model_optra',\n",
       " 'model_pajero',\n",
       " 'model_passat',\n",
       " 'model_polo',\n",
       " 'model_pulse',\n",
       " 'model_q3',\n",
       " 'model_q5',\n",
       " 'model_quanto',\n",
       " 'model_r-class',\n",
       " 'model_rapid',\n",
       " 'model_redi',\n",
       " 'model_redi-go',\n",
       " 'model_ritz',\n",
       " 'model_rover',\n",
       " 'model_s',\n",
       " 'model_s-cross',\n",
       " 'model_s60',\n",
       " 'model_safari',\n",
       " 'model_sail',\n",
       " 'model_santa',\n",
       " 'model_santro',\n",
       " 'model_scala',\n",
       " 'model_scorpio',\n",
       " 'model_sonata',\n",
       " 'model_spark',\n",
       " 'model_ssangyong',\n",
       " 'model_sumo',\n",
       " 'model_sunny',\n",
       " 'model_superb',\n",
       " 'model_swift',\n",
       " 'model_sx4',\n",
       " 'model_tavera',\n",
       " 'model_teana',\n",
       " 'model_terrano',\n",
       " 'model_thar',\n",
       " 'model_tiago',\n",
       " 'model_tigor',\n",
       " 'model_tucson',\n",
       " 'model_tuv',\n",
       " 'model_v40',\n",
       " 'model_vento',\n",
       " 'model_venture',\n",
       " 'model_verito',\n",
       " 'model_verna',\n",
       " 'model_vitara',\n",
       " 'model_wagon',\n",
       " 'model_wr-v',\n",
       " 'model_wrv',\n",
       " 'model_x-trail',\n",
       " 'model_x1',\n",
       " 'model_x3',\n",
       " 'model_xc60',\n",
       " 'model_xcent',\n",
       " 'model_xenon',\n",
       " 'model_xf',\n",
       " 'model_xuv300',\n",
       " 'model_xuv500',\n",
       " 'model_xylo',\n",
       " 'model_yeti',\n",
       " 'model_zen',\n",
       " 'model_zest']"
      ]
     },
     "execution_count": 114,
     "metadata": {},
     "output_type": "execute_result"
    }
   ],
   "source": [
    "model_v1.features"
   ]
  },
  {
   "cell_type": "markdown",
   "metadata": {},
   "source": [
    "### Preparing the record for the new used-car for sale"
   ]
  },
  {
   "cell_type": "code",
   "execution_count": 121,
   "metadata": {},
   "outputs": [],
   "source": [
    "car_dict = {'age': 4, \n",
    "            'KM_Driven' : 5, \n",
    "            'Fuel_Type_Petrol' : 1,\n",
    "            'Transmission_Manual': 1, \n",
    "            'Owner_Type_First': 1, \n",
    "            'Seats' : 5,\n",
    "            'make_maruti': 1,\n",
    "            'model_ertiga': 1,\n",
    "            'Location_Delhi': 1,\n",
    "            'mileage_new' : 16, \n",
    "            'engine_new': 1000,\n",
    "            'power_new': 90\n",
    "            }"
   ]
  },
  {
   "cell_type": "code",
   "execution_count": 122,
   "metadata": {},
   "outputs": [],
   "source": [
    "my_car = {}\n",
    "for key in model_v1.features:\n",
    "    my_car[key] = 0"
   ]
  },
  {
   "cell_type": "code",
   "execution_count": 123,
   "metadata": {},
   "outputs": [],
   "source": [
    "for key in car_dict:\n",
    "    my_car[key] = car_dict[key]"
   ]
  },
  {
   "cell_type": "code",
   "execution_count": 124,
   "metadata": {},
   "outputs": [],
   "source": [
    "df = pd.DataFrame(my_car, index = [0])"
   ]
  },
  {
   "cell_type": "code",
   "execution_count": 125,
   "metadata": {},
   "outputs": [
    {
     "data": {
      "text/html": [
       "<div>\n",
       "<style scoped>\n",
       "    .dataframe tbody tr th:only-of-type {\n",
       "        vertical-align: middle;\n",
       "    }\n",
       "\n",
       "    .dataframe tbody tr th {\n",
       "        vertical-align: top;\n",
       "    }\n",
       "\n",
       "    .dataframe thead th {\n",
       "        text-align: right;\n",
       "    }\n",
       "</style>\n",
       "<table border=\"1\" class=\"dataframe\">\n",
       "  <thead>\n",
       "    <tr style=\"text-align: right;\">\n",
       "      <th></th>\n",
       "      <th>KM_Driven</th>\n",
       "      <th>Seats</th>\n",
       "      <th>mileage_new</th>\n",
       "      <th>engine_new</th>\n",
       "      <th>power_new</th>\n",
       "      <th>age</th>\n",
       "      <th>Fuel_Type_Diesel</th>\n",
       "      <th>Fuel_Type_Petrol</th>\n",
       "      <th>Transmission_Automatic</th>\n",
       "      <th>Transmission_Manual</th>\n",
       "      <th>...</th>\n",
       "      <th>model_xc60</th>\n",
       "      <th>model_xcent</th>\n",
       "      <th>model_xenon</th>\n",
       "      <th>model_xf</th>\n",
       "      <th>model_xuv300</th>\n",
       "      <th>model_xuv500</th>\n",
       "      <th>model_xylo</th>\n",
       "      <th>model_yeti</th>\n",
       "      <th>model_zen</th>\n",
       "      <th>model_zest</th>\n",
       "    </tr>\n",
       "  </thead>\n",
       "  <tbody>\n",
       "    <tr>\n",
       "      <th>0</th>\n",
       "      <td>5</td>\n",
       "      <td>5</td>\n",
       "      <td>16</td>\n",
       "      <td>1000</td>\n",
       "      <td>90</td>\n",
       "      <td>4</td>\n",
       "      <td>0</td>\n",
       "      <td>1</td>\n",
       "      <td>0</td>\n",
       "      <td>1</td>\n",
       "      <td>...</td>\n",
       "      <td>0</td>\n",
       "      <td>0</td>\n",
       "      <td>0</td>\n",
       "      <td>0</td>\n",
       "      <td>0</td>\n",
       "      <td>0</td>\n",
       "      <td>0</td>\n",
       "      <td>0</td>\n",
       "      <td>0</td>\n",
       "      <td>0</td>\n",
       "    </tr>\n",
       "  </tbody>\n",
       "</table>\n",
       "<p>1 rows × 202 columns</p>\n",
       "</div>"
      ],
      "text/plain": [
       "   KM_Driven  Seats  mileage_new  engine_new  power_new  age  \\\n",
       "0          5      5           16        1000         90    4   \n",
       "\n",
       "   Fuel_Type_Diesel  Fuel_Type_Petrol  Transmission_Automatic  \\\n",
       "0                 0                 1                       0   \n",
       "\n",
       "   Transmission_Manual  ...  model_xc60  model_xcent  model_xenon  model_xf  \\\n",
       "0                    1  ...           0            0            0         0   \n",
       "\n",
       "   model_xuv300  model_xuv500  model_xylo  model_yeti  model_zen  model_zest  \n",
       "0             0             0           0           0          0           0  \n",
       "\n",
       "[1 rows x 202 columns]"
      ]
     },
     "execution_count": 125,
     "metadata": {},
     "output_type": "execute_result"
    }
   ],
   "source": [
    "df"
   ]
  },
  {
   "cell_type": "markdown",
   "metadata": {},
   "source": [
    "### Predicting the price of the used car"
   ]
  },
  {
   "cell_type": "code",
   "execution_count": 126,
   "metadata": {},
   "outputs": [
    {
     "data": {
      "text/plain": [
       "array([7.31282699])"
      ]
     },
     "execution_count": 126,
     "metadata": {},
     "output_type": "execute_result"
    }
   ],
   "source": [
    "model_v1.model.predict(df)"
   ]
  },
  {
   "cell_type": "code",
   "execution_count": null,
   "metadata": {},
   "outputs": [],
   "source": []
  }
 ],
 "metadata": {
  "kernelspec": {
   "display_name": "Python 3",
   "language": "python",
   "name": "python3"
  },
  "language_info": {
   "codemirror_mode": {
    "name": "ipython",
    "version": 3
   },
   "file_extension": ".py",
   "mimetype": "text/x-python",
   "name": "python",
   "nbconvert_exporter": "python",
   "pygments_lexer": "ipython3",
   "version": "3.8.8"
  }
 },
 "nbformat": 4,
 "nbformat_minor": 4
}
