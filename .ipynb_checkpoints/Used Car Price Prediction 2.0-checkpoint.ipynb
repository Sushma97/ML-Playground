{
 "cells": [
  {
   "cell_type": "markdown",
   "metadata": {},
   "source": [
    "# Used Car Price Prediction"
   ]
  },
  {
   "cell_type": "code",
   "execution_count": null,
   "metadata": {},
   "outputs": [],
   "source": [
    "### Load Dataset"
   ]
  },
  {
   "cell_type": "code",
   "execution_count": 70,
   "metadata": {},
   "outputs": [],
   "source": [
    "import pandas as pd\n",
    "import numpy as np\n",
    "import matplotlib.pyplot as plt\n",
    "import seaborn as sn"
   ]
  },
  {
   "cell_type": "code",
   "execution_count": 71,
   "metadata": {},
   "outputs": [],
   "source": [
    "cars_df = pd.read_csv( \"new_used_car.csv\" )"
   ]
  },
  {
   "cell_type": "code",
   "execution_count": 72,
   "metadata": {},
   "outputs": [
    {
     "data": {
      "text/html": [
       "<div>\n",
       "<style scoped>\n",
       "    .dataframe tbody tr th:only-of-type {\n",
       "        vertical-align: middle;\n",
       "    }\n",
       "\n",
       "    .dataframe tbody tr th {\n",
       "        vertical-align: top;\n",
       "    }\n",
       "\n",
       "    .dataframe thead th {\n",
       "        text-align: right;\n",
       "    }\n",
       "</style>\n",
       "<table border=\"1\" class=\"dataframe\">\n",
       "  <thead>\n",
       "    <tr style=\"text-align: right;\">\n",
       "      <th></th>\n",
       "      <th>Name</th>\n",
       "      <th>Location</th>\n",
       "      <th>Year</th>\n",
       "      <th>Kilometers_Driven</th>\n",
       "      <th>Fuel_Type</th>\n",
       "      <th>Transmission</th>\n",
       "      <th>Owner_Type</th>\n",
       "      <th>Mileage</th>\n",
       "      <th>Engine</th>\n",
       "      <th>Power</th>\n",
       "      <th>Seats</th>\n",
       "      <th>New_Price</th>\n",
       "      <th>Price</th>\n",
       "      <th>age</th>\n",
       "      <th>make</th>\n",
       "      <th>model</th>\n",
       "      <th>mileage_new</th>\n",
       "      <th>engine_new</th>\n",
       "      <th>power_new</th>\n",
       "      <th>KM_Driven</th>\n",
       "    </tr>\n",
       "  </thead>\n",
       "  <tbody>\n",
       "    <tr>\n",
       "      <th>0</th>\n",
       "      <td>Hyundai Creta 1.6 CRDi SX Option</td>\n",
       "      <td>Pune</td>\n",
       "      <td>2015</td>\n",
       "      <td>41000</td>\n",
       "      <td>Diesel</td>\n",
       "      <td>Manual</td>\n",
       "      <td>First</td>\n",
       "      <td>19.67 kmpl</td>\n",
       "      <td>1582 CC</td>\n",
       "      <td>126.2 bhp</td>\n",
       "      <td>5.0</td>\n",
       "      <td>NaN</td>\n",
       "      <td>12.50</td>\n",
       "      <td>5</td>\n",
       "      <td>hyundai</td>\n",
       "      <td>creta</td>\n",
       "      <td>19.67</td>\n",
       "      <td>1582.0</td>\n",
       "      <td>126.20</td>\n",
       "      <td>4</td>\n",
       "    </tr>\n",
       "    <tr>\n",
       "      <th>1</th>\n",
       "      <td>Honda Jazz V</td>\n",
       "      <td>Chennai</td>\n",
       "      <td>2011</td>\n",
       "      <td>46000</td>\n",
       "      <td>Petrol</td>\n",
       "      <td>Manual</td>\n",
       "      <td>First</td>\n",
       "      <td>18.2 kmpl</td>\n",
       "      <td>1199 CC</td>\n",
       "      <td>88.7 bhp</td>\n",
       "      <td>5.0</td>\n",
       "      <td>8.61 Lakh</td>\n",
       "      <td>4.50</td>\n",
       "      <td>9</td>\n",
       "      <td>honda</td>\n",
       "      <td>jazz</td>\n",
       "      <td>18.20</td>\n",
       "      <td>1199.0</td>\n",
       "      <td>88.70</td>\n",
       "      <td>4</td>\n",
       "    </tr>\n",
       "    <tr>\n",
       "      <th>2</th>\n",
       "      <td>Maruti Ertiga VDI</td>\n",
       "      <td>Chennai</td>\n",
       "      <td>2012</td>\n",
       "      <td>87000</td>\n",
       "      <td>Diesel</td>\n",
       "      <td>Manual</td>\n",
       "      <td>First</td>\n",
       "      <td>20.77 kmpl</td>\n",
       "      <td>1248 CC</td>\n",
       "      <td>88.76 bhp</td>\n",
       "      <td>7.0</td>\n",
       "      <td>NaN</td>\n",
       "      <td>6.00</td>\n",
       "      <td>8</td>\n",
       "      <td>maruti</td>\n",
       "      <td>ertiga</td>\n",
       "      <td>20.77</td>\n",
       "      <td>1248.0</td>\n",
       "      <td>88.76</td>\n",
       "      <td>8</td>\n",
       "    </tr>\n",
       "    <tr>\n",
       "      <th>3</th>\n",
       "      <td>Audi A4 New 2.0 TDI Multitronic</td>\n",
       "      <td>Coimbatore</td>\n",
       "      <td>2013</td>\n",
       "      <td>40670</td>\n",
       "      <td>Diesel</td>\n",
       "      <td>Automatic</td>\n",
       "      <td>Second</td>\n",
       "      <td>15.2 kmpl</td>\n",
       "      <td>1968 CC</td>\n",
       "      <td>140.8 bhp</td>\n",
       "      <td>5.0</td>\n",
       "      <td>NaN</td>\n",
       "      <td>17.74</td>\n",
       "      <td>7</td>\n",
       "      <td>audi</td>\n",
       "      <td>a4</td>\n",
       "      <td>15.20</td>\n",
       "      <td>1968.0</td>\n",
       "      <td>140.80</td>\n",
       "      <td>4</td>\n",
       "    </tr>\n",
       "    <tr>\n",
       "      <th>4</th>\n",
       "      <td>Nissan Micra Diesel XV</td>\n",
       "      <td>Jaipur</td>\n",
       "      <td>2013</td>\n",
       "      <td>86999</td>\n",
       "      <td>Diesel</td>\n",
       "      <td>Manual</td>\n",
       "      <td>First</td>\n",
       "      <td>23.08 kmpl</td>\n",
       "      <td>1461 CC</td>\n",
       "      <td>63.1 bhp</td>\n",
       "      <td>5.0</td>\n",
       "      <td>NaN</td>\n",
       "      <td>3.50</td>\n",
       "      <td>7</td>\n",
       "      <td>nissan</td>\n",
       "      <td>micra</td>\n",
       "      <td>23.08</td>\n",
       "      <td>1461.0</td>\n",
       "      <td>63.10</td>\n",
       "      <td>8</td>\n",
       "    </tr>\n",
       "  </tbody>\n",
       "</table>\n",
       "</div>"
      ],
      "text/plain": [
       "                               Name    Location  Year  Kilometers_Driven  \\\n",
       "0  Hyundai Creta 1.6 CRDi SX Option        Pune  2015              41000   \n",
       "1                      Honda Jazz V     Chennai  2011              46000   \n",
       "2                 Maruti Ertiga VDI     Chennai  2012              87000   \n",
       "3   Audi A4 New 2.0 TDI Multitronic  Coimbatore  2013              40670   \n",
       "4            Nissan Micra Diesel XV      Jaipur  2013              86999   \n",
       "\n",
       "  Fuel_Type Transmission Owner_Type     Mileage   Engine      Power  Seats  \\\n",
       "0    Diesel       Manual      First  19.67 kmpl  1582 CC  126.2 bhp    5.0   \n",
       "1    Petrol       Manual      First   18.2 kmpl  1199 CC   88.7 bhp    5.0   \n",
       "2    Diesel       Manual      First  20.77 kmpl  1248 CC  88.76 bhp    7.0   \n",
       "3    Diesel    Automatic     Second   15.2 kmpl  1968 CC  140.8 bhp    5.0   \n",
       "4    Diesel       Manual      First  23.08 kmpl  1461 CC   63.1 bhp    5.0   \n",
       "\n",
       "   New_Price  Price  age     make   model  mileage_new  engine_new  power_new  \\\n",
       "0        NaN  12.50    5  hyundai   creta        19.67      1582.0     126.20   \n",
       "1  8.61 Lakh   4.50    9    honda    jazz        18.20      1199.0      88.70   \n",
       "2        NaN   6.00    8   maruti  ertiga        20.77      1248.0      88.76   \n",
       "3        NaN  17.74    7     audi      a4        15.20      1968.0     140.80   \n",
       "4        NaN   3.50    7   nissan   micra        23.08      1461.0      63.10   \n",
       "\n",
       "   KM_Driven  \n",
       "0          4  \n",
       "1          4  \n",
       "2          8  \n",
       "3          4  \n",
       "4          8  "
      ]
     },
     "execution_count": 72,
     "metadata": {},
     "output_type": "execute_result"
    }
   ],
   "source": [
    "cars_df.head(5)"
   ]
  },
  {
   "cell_type": "code",
   "execution_count": 73,
   "metadata": {},
   "outputs": [
    {
     "name": "stdout",
     "output_type": "stream",
     "text": [
      "<class 'pandas.core.frame.DataFrame'>\n",
      "RangeIndex: 4986 entries, 0 to 4985\n",
      "Data columns (total 20 columns):\n",
      " #   Column             Non-Null Count  Dtype  \n",
      "---  ------             --------------  -----  \n",
      " 0   Name               4986 non-null   object \n",
      " 1   Location           4986 non-null   object \n",
      " 2   Year               4986 non-null   int64  \n",
      " 3   Kilometers_Driven  4986 non-null   int64  \n",
      " 4   Fuel_Type          4986 non-null   object \n",
      " 5   Transmission       4986 non-null   object \n",
      " 6   Owner_Type         4986 non-null   object \n",
      " 7   Mileage            4986 non-null   object \n",
      " 8   Engine             4962 non-null   object \n",
      " 9   Power              4962 non-null   object \n",
      " 10  Seats              4957 non-null   float64\n",
      " 11  New_Price          633 non-null    object \n",
      " 12  Price              4986 non-null   float64\n",
      " 13  age                4986 non-null   int64  \n",
      " 14  make               4986 non-null   object \n",
      " 15  model              4986 non-null   object \n",
      " 16  mileage_new        4986 non-null   float64\n",
      " 17  engine_new         4962 non-null   float64\n",
      " 18  power_new          4889 non-null   float64\n",
      " 19  KM_Driven          4986 non-null   int64  \n",
      "dtypes: float64(5), int64(4), object(11)\n",
      "memory usage: 779.2+ KB\n"
     ]
    }
   ],
   "source": [
    "cars_df.info()"
   ]
  },
  {
   "cell_type": "code",
   "execution_count": 74,
   "metadata": {},
   "outputs": [],
   "source": [
    "#cars_df = cars_df[cars_df.Year > 2010]"
   ]
  },
  {
   "cell_type": "markdown",
   "metadata": {},
   "source": [
    "### Feature Set Selection"
   ]
  },
  {
   "cell_type": "code",
   "execution_count": 75,
   "metadata": {},
   "outputs": [
    {
     "data": {
      "text/plain": [
       "Index(['Name', 'Location', 'Year', 'Kilometers_Driven', 'Fuel_Type',\n",
       "       'Transmission', 'Owner_Type', 'Mileage', 'Engine', 'Power', 'Seats',\n",
       "       'New_Price', 'Price', 'age', 'make', 'model', 'mileage_new',\n",
       "       'engine_new', 'power_new', 'KM_Driven'],\n",
       "      dtype='object')"
      ]
     },
     "execution_count": 75,
     "metadata": {},
     "output_type": "execute_result"
    }
   ],
   "source": [
    "cars_df.columns"
   ]
  },
  {
   "cell_type": "code",
   "execution_count": 76,
   "metadata": {},
   "outputs": [],
   "source": [
    "x_features = ['KM_Driven', 'Fuel_Type',\n",
    "              'Transmission', 'Owner_Type', 'Seats',\n",
    "              'make', 'mileage_new', 'engine_new',\n",
    "              'power_new', 'Location','model','age']\n",
    "## model of the car is not included in the model"
   ]
  },
  {
   "cell_type": "code",
   "execution_count": 77,
   "metadata": {},
   "outputs": [],
   "source": [
    "cat_features = ['Fuel_Type',\n",
    "                'Transmission', 'Owner_Type', \n",
    "                'make', 'Location','model']"
   ]
  },
  {
   "cell_type": "code",
   "execution_count": 78,
   "metadata": {},
   "outputs": [],
   "source": [
    "num_features = list(set(x_features) - set(cat_features))"
   ]
  },
  {
   "cell_type": "code",
   "execution_count": 79,
   "metadata": {},
   "outputs": [
    {
     "data": {
      "text/plain": [
       "['age', 'Seats', 'power_new', 'mileage_new', 'KM_Driven', 'engine_new']"
      ]
     },
     "execution_count": 79,
     "metadata": {},
     "output_type": "execute_result"
    }
   ],
   "source": [
    "num_features"
   ]
  },
  {
   "cell_type": "code",
   "execution_count": 80,
   "metadata": {},
   "outputs": [
    {
     "name": "stdout",
     "output_type": "stream",
     "text": [
      "<class 'pandas.core.frame.DataFrame'>\n",
      "RangeIndex: 4986 entries, 0 to 4985\n",
      "Data columns (total 20 columns):\n",
      " #   Column             Non-Null Count  Dtype  \n",
      "---  ------             --------------  -----  \n",
      " 0   Name               4986 non-null   object \n",
      " 1   Location           4986 non-null   object \n",
      " 2   Year               4986 non-null   int64  \n",
      " 3   Kilometers_Driven  4986 non-null   int64  \n",
      " 4   Fuel_Type          4986 non-null   object \n",
      " 5   Transmission       4986 non-null   object \n",
      " 6   Owner_Type         4986 non-null   object \n",
      " 7   Mileage            4986 non-null   object \n",
      " 8   Engine             4962 non-null   object \n",
      " 9   Power              4962 non-null   object \n",
      " 10  Seats              4957 non-null   float64\n",
      " 11  New_Price          633 non-null    object \n",
      " 12  Price              4986 non-null   float64\n",
      " 13  age                4986 non-null   int64  \n",
      " 14  make               4986 non-null   object \n",
      " 15  model              4986 non-null   object \n",
      " 16  mileage_new        4986 non-null   float64\n",
      " 17  engine_new         4962 non-null   float64\n",
      " 18  power_new          4889 non-null   float64\n",
      " 19  KM_Driven          4986 non-null   int64  \n",
      "dtypes: float64(5), int64(4), object(11)\n",
      "memory usage: 779.2+ KB\n"
     ]
    }
   ],
   "source": [
    "cars_df.info()"
   ]
  },
  {
   "cell_type": "markdown",
   "metadata": {},
   "source": [
    "### Dropping Null Values"
   ]
  },
  {
   "cell_type": "code",
   "execution_count": 81,
   "metadata": {},
   "outputs": [],
   "source": [
    "cars_df = cars_df[cars_df.Year > 2010 ][x_features + ['Price']].dropna()"
   ]
  },
  {
   "cell_type": "code",
   "execution_count": 82,
   "metadata": {},
   "outputs": [
    {
     "data": {
      "text/plain": [
       "(4058, 13)"
      ]
     },
     "execution_count": 82,
     "metadata": {},
     "output_type": "execute_result"
    }
   ],
   "source": [
    "cars_df.shape"
   ]
  },
  {
   "cell_type": "code",
   "execution_count": 83,
   "metadata": {},
   "outputs": [
    {
     "data": {
      "text/html": [
       "<div>\n",
       "<style scoped>\n",
       "    .dataframe tbody tr th:only-of-type {\n",
       "        vertical-align: middle;\n",
       "    }\n",
       "\n",
       "    .dataframe tbody tr th {\n",
       "        vertical-align: top;\n",
       "    }\n",
       "\n",
       "    .dataframe thead th {\n",
       "        text-align: right;\n",
       "    }\n",
       "</style>\n",
       "<table border=\"1\" class=\"dataframe\">\n",
       "  <thead>\n",
       "    <tr style=\"text-align: right;\">\n",
       "      <th></th>\n",
       "      <th>KM_Driven</th>\n",
       "      <th>Fuel_Type</th>\n",
       "      <th>Transmission</th>\n",
       "      <th>Owner_Type</th>\n",
       "      <th>Seats</th>\n",
       "      <th>make</th>\n",
       "      <th>mileage_new</th>\n",
       "      <th>engine_new</th>\n",
       "      <th>power_new</th>\n",
       "      <th>Location</th>\n",
       "      <th>model</th>\n",
       "      <th>age</th>\n",
       "      <th>Price</th>\n",
       "    </tr>\n",
       "  </thead>\n",
       "  <tbody>\n",
       "    <tr>\n",
       "      <th>1304</th>\n",
       "      <td>6</td>\n",
       "      <td>Diesel</td>\n",
       "      <td>Manual</td>\n",
       "      <td>First</td>\n",
       "      <td>5.0</td>\n",
       "      <td>honda</td>\n",
       "      <td>25.80</td>\n",
       "      <td>1498.0</td>\n",
       "      <td>98.60</td>\n",
       "      <td>Kochi</td>\n",
       "      <td>amaze</td>\n",
       "      <td>5</td>\n",
       "      <td>5.38</td>\n",
       "    </tr>\n",
       "    <tr>\n",
       "      <th>351</th>\n",
       "      <td>6</td>\n",
       "      <td>Petrol</td>\n",
       "      <td>Manual</td>\n",
       "      <td>Second</td>\n",
       "      <td>5.0</td>\n",
       "      <td>maruti</td>\n",
       "      <td>18.50</td>\n",
       "      <td>1197.0</td>\n",
       "      <td>85.80</td>\n",
       "      <td>Chennai</td>\n",
       "      <td>ritz</td>\n",
       "      <td>9</td>\n",
       "      <td>2.25</td>\n",
       "    </tr>\n",
       "    <tr>\n",
       "      <th>2499</th>\n",
       "      <td>7</td>\n",
       "      <td>Diesel</td>\n",
       "      <td>Manual</td>\n",
       "      <td>First</td>\n",
       "      <td>5.0</td>\n",
       "      <td>renault</td>\n",
       "      <td>23.08</td>\n",
       "      <td>1461.0</td>\n",
       "      <td>63.12</td>\n",
       "      <td>Hyderabad</td>\n",
       "      <td>pulse</td>\n",
       "      <td>7</td>\n",
       "      <td>4.95</td>\n",
       "    </tr>\n",
       "    <tr>\n",
       "      <th>4070</th>\n",
       "      <td>5</td>\n",
       "      <td>Diesel</td>\n",
       "      <td>Manual</td>\n",
       "      <td>Second</td>\n",
       "      <td>5.0</td>\n",
       "      <td>hyundai</td>\n",
       "      <td>24.40</td>\n",
       "      <td>1120.0</td>\n",
       "      <td>71.00</td>\n",
       "      <td>Mumbai</td>\n",
       "      <td>xcent</td>\n",
       "      <td>6</td>\n",
       "      <td>3.99</td>\n",
       "    </tr>\n",
       "    <tr>\n",
       "      <th>4930</th>\n",
       "      <td>7</td>\n",
       "      <td>Diesel</td>\n",
       "      <td>Manual</td>\n",
       "      <td>Second</td>\n",
       "      <td>5.0</td>\n",
       "      <td>mercedes-benz</td>\n",
       "      <td>15.80</td>\n",
       "      <td>2148.0</td>\n",
       "      <td>170.00</td>\n",
       "      <td>Pune</td>\n",
       "      <td>new</td>\n",
       "      <td>7</td>\n",
       "      <td>15.50</td>\n",
       "    </tr>\n",
       "  </tbody>\n",
       "</table>\n",
       "</div>"
      ],
      "text/plain": [
       "      KM_Driven Fuel_Type Transmission Owner_Type  Seats           make  \\\n",
       "1304          6    Diesel       Manual      First    5.0          honda   \n",
       "351           6    Petrol       Manual     Second    5.0         maruti   \n",
       "2499          7    Diesel       Manual      First    5.0        renault   \n",
       "4070          5    Diesel       Manual     Second    5.0        hyundai   \n",
       "4930          7    Diesel       Manual     Second    5.0  mercedes-benz   \n",
       "\n",
       "      mileage_new  engine_new  power_new   Location  model  age  Price  \n",
       "1304        25.80      1498.0      98.60      Kochi  amaze    5   5.38  \n",
       "351         18.50      1197.0      85.80    Chennai   ritz    9   2.25  \n",
       "2499        23.08      1461.0      63.12  Hyderabad  pulse    7   4.95  \n",
       "4070        24.40      1120.0      71.00     Mumbai  xcent    6   3.99  \n",
       "4930        15.80      2148.0     170.00       Pune    new    7  15.50  "
      ]
     },
     "execution_count": 83,
     "metadata": {},
     "output_type": "execute_result"
    }
   ],
   "source": [
    "cars_df.sample(5)"
   ]
  },
  {
   "cell_type": "markdown",
   "metadata": {},
   "source": [
    "### Encode Categorical Variables"
   ]
  },
  {
   "cell_type": "code",
   "execution_count": 84,
   "metadata": {},
   "outputs": [],
   "source": [
    "encoded_cars_df = pd.get_dummies(cars_df[x_features], \n",
    "                                 columns=cat_features)"
   ]
  },
  {
   "cell_type": "code",
   "execution_count": 85,
   "metadata": {},
   "outputs": [
    {
     "data": {
      "text/html": [
       "<div>\n",
       "<style scoped>\n",
       "    .dataframe tbody tr th:only-of-type {\n",
       "        vertical-align: middle;\n",
       "    }\n",
       "\n",
       "    .dataframe tbody tr th {\n",
       "        vertical-align: top;\n",
       "    }\n",
       "\n",
       "    .dataframe thead th {\n",
       "        text-align: right;\n",
       "    }\n",
       "</style>\n",
       "<table border=\"1\" class=\"dataframe\">\n",
       "  <thead>\n",
       "    <tr style=\"text-align: right;\">\n",
       "      <th></th>\n",
       "      <th>KM_Driven</th>\n",
       "      <th>Seats</th>\n",
       "      <th>mileage_new</th>\n",
       "      <th>engine_new</th>\n",
       "      <th>power_new</th>\n",
       "      <th>age</th>\n",
       "      <th>Fuel_Type_Diesel</th>\n",
       "      <th>Fuel_Type_Petrol</th>\n",
       "      <th>Transmission_Automatic</th>\n",
       "      <th>Transmission_Manual</th>\n",
       "      <th>...</th>\n",
       "      <th>model_xc60</th>\n",
       "      <th>model_xcent</th>\n",
       "      <th>model_xenon</th>\n",
       "      <th>model_xf</th>\n",
       "      <th>model_xuv300</th>\n",
       "      <th>model_xuv500</th>\n",
       "      <th>model_xylo</th>\n",
       "      <th>model_yeti</th>\n",
       "      <th>model_zen</th>\n",
       "      <th>model_zest</th>\n",
       "    </tr>\n",
       "  </thead>\n",
       "  <tbody>\n",
       "    <tr>\n",
       "      <th>4689</th>\n",
       "      <td>3</td>\n",
       "      <td>5.0</td>\n",
       "      <td>17.01</td>\n",
       "      <td>1591.0</td>\n",
       "      <td>121.30</td>\n",
       "      <td>4</td>\n",
       "      <td>0</td>\n",
       "      <td>1</td>\n",
       "      <td>0</td>\n",
       "      <td>1</td>\n",
       "      <td>...</td>\n",
       "      <td>0</td>\n",
       "      <td>0</td>\n",
       "      <td>0</td>\n",
       "      <td>0</td>\n",
       "      <td>0</td>\n",
       "      <td>0</td>\n",
       "      <td>0</td>\n",
       "      <td>0</td>\n",
       "      <td>0</td>\n",
       "      <td>0</td>\n",
       "    </tr>\n",
       "    <tr>\n",
       "      <th>2185</th>\n",
       "      <td>2</td>\n",
       "      <td>5.0</td>\n",
       "      <td>23.10</td>\n",
       "      <td>998.0</td>\n",
       "      <td>67.04</td>\n",
       "      <td>3</td>\n",
       "      <td>0</td>\n",
       "      <td>1</td>\n",
       "      <td>0</td>\n",
       "      <td>1</td>\n",
       "      <td>...</td>\n",
       "      <td>0</td>\n",
       "      <td>0</td>\n",
       "      <td>0</td>\n",
       "      <td>0</td>\n",
       "      <td>0</td>\n",
       "      <td>0</td>\n",
       "      <td>0</td>\n",
       "      <td>0</td>\n",
       "      <td>0</td>\n",
       "      <td>0</td>\n",
       "    </tr>\n",
       "    <tr>\n",
       "      <th>2462</th>\n",
       "      <td>1</td>\n",
       "      <td>5.0</td>\n",
       "      <td>17.10</td>\n",
       "      <td>1956.0</td>\n",
       "      <td>170.00</td>\n",
       "      <td>2</td>\n",
       "      <td>1</td>\n",
       "      <td>0</td>\n",
       "      <td>0</td>\n",
       "      <td>1</td>\n",
       "      <td>...</td>\n",
       "      <td>0</td>\n",
       "      <td>0</td>\n",
       "      <td>0</td>\n",
       "      <td>0</td>\n",
       "      <td>0</td>\n",
       "      <td>0</td>\n",
       "      <td>0</td>\n",
       "      <td>0</td>\n",
       "      <td>0</td>\n",
       "      <td>0</td>\n",
       "    </tr>\n",
       "    <tr>\n",
       "      <th>3442</th>\n",
       "      <td>1</td>\n",
       "      <td>5.0</td>\n",
       "      <td>20.51</td>\n",
       "      <td>998.0</td>\n",
       "      <td>67.04</td>\n",
       "      <td>5</td>\n",
       "      <td>0</td>\n",
       "      <td>1</td>\n",
       "      <td>0</td>\n",
       "      <td>1</td>\n",
       "      <td>...</td>\n",
       "      <td>0</td>\n",
       "      <td>0</td>\n",
       "      <td>0</td>\n",
       "      <td>0</td>\n",
       "      <td>0</td>\n",
       "      <td>0</td>\n",
       "      <td>0</td>\n",
       "      <td>0</td>\n",
       "      <td>0</td>\n",
       "      <td>0</td>\n",
       "    </tr>\n",
       "    <tr>\n",
       "      <th>820</th>\n",
       "      <td>4</td>\n",
       "      <td>5.0</td>\n",
       "      <td>17.00</td>\n",
       "      <td>1497.0</td>\n",
       "      <td>118.00</td>\n",
       "      <td>8</td>\n",
       "      <td>0</td>\n",
       "      <td>1</td>\n",
       "      <td>0</td>\n",
       "      <td>1</td>\n",
       "      <td>...</td>\n",
       "      <td>0</td>\n",
       "      <td>0</td>\n",
       "      <td>0</td>\n",
       "      <td>0</td>\n",
       "      <td>0</td>\n",
       "      <td>0</td>\n",
       "      <td>0</td>\n",
       "      <td>0</td>\n",
       "      <td>0</td>\n",
       "      <td>0</td>\n",
       "    </tr>\n",
       "  </tbody>\n",
       "</table>\n",
       "<p>5 rows × 202 columns</p>\n",
       "</div>"
      ],
      "text/plain": [
       "      KM_Driven  Seats  mileage_new  engine_new  power_new  age  \\\n",
       "4689          3    5.0        17.01      1591.0     121.30    4   \n",
       "2185          2    5.0        23.10       998.0      67.04    3   \n",
       "2462          1    5.0        17.10      1956.0     170.00    2   \n",
       "3442          1    5.0        20.51       998.0      67.04    5   \n",
       "820           4    5.0        17.00      1497.0     118.00    8   \n",
       "\n",
       "      Fuel_Type_Diesel  Fuel_Type_Petrol  Transmission_Automatic  \\\n",
       "4689                 0                 1                       0   \n",
       "2185                 0                 1                       0   \n",
       "2462                 1                 0                       0   \n",
       "3442                 0                 1                       0   \n",
       "820                  0                 1                       0   \n",
       "\n",
       "      Transmission_Manual  ...  model_xc60  model_xcent  model_xenon  \\\n",
       "4689                    1  ...           0            0            0   \n",
       "2185                    1  ...           0            0            0   \n",
       "2462                    1  ...           0            0            0   \n",
       "3442                    1  ...           0            0            0   \n",
       "820                     1  ...           0            0            0   \n",
       "\n",
       "      model_xf  model_xuv300  model_xuv500  model_xylo  model_yeti  model_zen  \\\n",
       "4689         0             0             0           0           0          0   \n",
       "2185         0             0             0           0           0          0   \n",
       "2462         0             0             0           0           0          0   \n",
       "3442         0             0             0           0           0          0   \n",
       "820          0             0             0           0           0          0   \n",
       "\n",
       "      model_zest  \n",
       "4689           0  \n",
       "2185           0  \n",
       "2462           0  \n",
       "3442           0  \n",
       "820            0  \n",
       "\n",
       "[5 rows x 202 columns]"
      ]
     },
     "execution_count": 85,
     "metadata": {},
     "output_type": "execute_result"
    }
   ],
   "source": [
    "encoded_cars_df.sample(5)"
   ]
  },
  {
   "cell_type": "code",
   "execution_count": 86,
   "metadata": {},
   "outputs": [
    {
     "data": {
      "text/plain": [
       "Index(['KM_Driven', 'Seats', 'mileage_new', 'engine_new', 'power_new', 'age',\n",
       "       'Fuel_Type_Diesel', 'Fuel_Type_Petrol', 'Transmission_Automatic',\n",
       "       'Transmission_Manual',\n",
       "       ...\n",
       "       'model_xc60', 'model_xcent', 'model_xenon', 'model_xf', 'model_xuv300',\n",
       "       'model_xuv500', 'model_xylo', 'model_yeti', 'model_zen', 'model_zest'],\n",
       "      dtype='object', length=202)"
      ]
     },
     "execution_count": 86,
     "metadata": {},
     "output_type": "execute_result"
    }
   ],
   "source": [
    "encoded_cars_df.columns"
   ]
  },
  {
   "cell_type": "code",
   "execution_count": 87,
   "metadata": {},
   "outputs": [
    {
     "data": {
      "text/plain": [
       "(4058, 202)"
      ]
     },
     "execution_count": 87,
     "metadata": {},
     "output_type": "execute_result"
    }
   ],
   "source": [
    "encoded_cars_df.shape"
   ]
  },
  {
   "cell_type": "markdown",
   "metadata": {},
   "source": [
    "### Setting X and y variables"
   ]
  },
  {
   "cell_type": "code",
   "execution_count": 88,
   "metadata": {},
   "outputs": [],
   "source": [
    "X = encoded_cars_df\n",
    "y = cars_df['Price']"
   ]
  },
  {
   "cell_type": "markdown",
   "metadata": {},
   "source": [
    "### Data Splitting"
   ]
  },
  {
   "cell_type": "code",
   "execution_count": 89,
   "metadata": {},
   "outputs": [],
   "source": [
    "from sklearn.model_selection import train_test_split"
   ]
  },
  {
   "cell_type": "code",
   "execution_count": 90,
   "metadata": {},
   "outputs": [],
   "source": [
    "X_train, X_test, y_train, y_test = train_test_split(X,\n",
    "                                                    y,\n",
    "                                                    train_size = 0.8,\n",
    "                                                    random_state = 100)"
   ]
  },
  {
   "cell_type": "code",
   "execution_count": 91,
   "metadata": {},
   "outputs": [
    {
     "data": {
      "text/plain": [
       "(3246, 202)"
      ]
     },
     "execution_count": 91,
     "metadata": {},
     "output_type": "execute_result"
    }
   ],
   "source": [
    "X_train.shape"
   ]
  },
  {
   "cell_type": "code",
   "execution_count": 92,
   "metadata": {},
   "outputs": [
    {
     "data": {
      "text/html": [
       "<div>\n",
       "<style scoped>\n",
       "    .dataframe tbody tr th:only-of-type {\n",
       "        vertical-align: middle;\n",
       "    }\n",
       "\n",
       "    .dataframe tbody tr th {\n",
       "        vertical-align: top;\n",
       "    }\n",
       "\n",
       "    .dataframe thead th {\n",
       "        text-align: right;\n",
       "    }\n",
       "</style>\n",
       "<table border=\"1\" class=\"dataframe\">\n",
       "  <thead>\n",
       "    <tr style=\"text-align: right;\">\n",
       "      <th></th>\n",
       "      <th>KM_Driven</th>\n",
       "      <th>Seats</th>\n",
       "      <th>mileage_new</th>\n",
       "      <th>engine_new</th>\n",
       "      <th>power_new</th>\n",
       "      <th>age</th>\n",
       "      <th>Fuel_Type_Diesel</th>\n",
       "      <th>Fuel_Type_Petrol</th>\n",
       "      <th>Transmission_Automatic</th>\n",
       "      <th>Transmission_Manual</th>\n",
       "      <th>...</th>\n",
       "      <th>model_xc60</th>\n",
       "      <th>model_xcent</th>\n",
       "      <th>model_xenon</th>\n",
       "      <th>model_xf</th>\n",
       "      <th>model_xuv300</th>\n",
       "      <th>model_xuv500</th>\n",
       "      <th>model_xylo</th>\n",
       "      <th>model_yeti</th>\n",
       "      <th>model_zen</th>\n",
       "      <th>model_zest</th>\n",
       "    </tr>\n",
       "  </thead>\n",
       "  <tbody>\n",
       "    <tr>\n",
       "      <th>1560</th>\n",
       "      <td>9</td>\n",
       "      <td>5.0</td>\n",
       "      <td>22.90</td>\n",
       "      <td>1248.0</td>\n",
       "      <td>74.00</td>\n",
       "      <td>7</td>\n",
       "      <td>1</td>\n",
       "      <td>0</td>\n",
       "      <td>0</td>\n",
       "      <td>1</td>\n",
       "      <td>...</td>\n",
       "      <td>0</td>\n",
       "      <td>0</td>\n",
       "      <td>0</td>\n",
       "      <td>0</td>\n",
       "      <td>0</td>\n",
       "      <td>0</td>\n",
       "      <td>0</td>\n",
       "      <td>0</td>\n",
       "      <td>0</td>\n",
       "      <td>0</td>\n",
       "    </tr>\n",
       "    <tr>\n",
       "      <th>1885</th>\n",
       "      <td>2</td>\n",
       "      <td>5.0</td>\n",
       "      <td>14.62</td>\n",
       "      <td>1999.0</td>\n",
       "      <td>149.92</td>\n",
       "      <td>4</td>\n",
       "      <td>0</td>\n",
       "      <td>1</td>\n",
       "      <td>1</td>\n",
       "      <td>0</td>\n",
       "      <td>...</td>\n",
       "      <td>0</td>\n",
       "      <td>0</td>\n",
       "      <td>0</td>\n",
       "      <td>0</td>\n",
       "      <td>0</td>\n",
       "      <td>0</td>\n",
       "      <td>0</td>\n",
       "      <td>0</td>\n",
       "      <td>0</td>\n",
       "      <td>0</td>\n",
       "    </tr>\n",
       "    <tr>\n",
       "      <th>2294</th>\n",
       "      <td>9</td>\n",
       "      <td>5.0</td>\n",
       "      <td>23.00</td>\n",
       "      <td>1396.0</td>\n",
       "      <td>90.00</td>\n",
       "      <td>8</td>\n",
       "      <td>1</td>\n",
       "      <td>0</td>\n",
       "      <td>0</td>\n",
       "      <td>1</td>\n",
       "      <td>...</td>\n",
       "      <td>0</td>\n",
       "      <td>0</td>\n",
       "      <td>0</td>\n",
       "      <td>0</td>\n",
       "      <td>0</td>\n",
       "      <td>0</td>\n",
       "      <td>0</td>\n",
       "      <td>0</td>\n",
       "      <td>0</td>\n",
       "      <td>0</td>\n",
       "    </tr>\n",
       "    <tr>\n",
       "      <th>79</th>\n",
       "      <td>3</td>\n",
       "      <td>5.0</td>\n",
       "      <td>25.80</td>\n",
       "      <td>1498.0</td>\n",
       "      <td>98.60</td>\n",
       "      <td>5</td>\n",
       "      <td>1</td>\n",
       "      <td>0</td>\n",
       "      <td>0</td>\n",
       "      <td>1</td>\n",
       "      <td>...</td>\n",
       "      <td>0</td>\n",
       "      <td>0</td>\n",
       "      <td>0</td>\n",
       "      <td>0</td>\n",
       "      <td>0</td>\n",
       "      <td>0</td>\n",
       "      <td>0</td>\n",
       "      <td>0</td>\n",
       "      <td>0</td>\n",
       "      <td>0</td>\n",
       "    </tr>\n",
       "    <tr>\n",
       "      <th>4081</th>\n",
       "      <td>5</td>\n",
       "      <td>5.0</td>\n",
       "      <td>23.40</td>\n",
       "      <td>1248.0</td>\n",
       "      <td>74.00</td>\n",
       "      <td>5</td>\n",
       "      <td>1</td>\n",
       "      <td>0</td>\n",
       "      <td>0</td>\n",
       "      <td>1</td>\n",
       "      <td>...</td>\n",
       "      <td>0</td>\n",
       "      <td>0</td>\n",
       "      <td>0</td>\n",
       "      <td>0</td>\n",
       "      <td>0</td>\n",
       "      <td>0</td>\n",
       "      <td>0</td>\n",
       "      <td>0</td>\n",
       "      <td>0</td>\n",
       "      <td>0</td>\n",
       "    </tr>\n",
       "    <tr>\n",
       "      <th>1022</th>\n",
       "      <td>5</td>\n",
       "      <td>7.0</td>\n",
       "      <td>12.55</td>\n",
       "      <td>2982.0</td>\n",
       "      <td>168.50</td>\n",
       "      <td>5</td>\n",
       "      <td>1</td>\n",
       "      <td>0</td>\n",
       "      <td>1</td>\n",
       "      <td>0</td>\n",
       "      <td>...</td>\n",
       "      <td>0</td>\n",
       "      <td>0</td>\n",
       "      <td>0</td>\n",
       "      <td>0</td>\n",
       "      <td>0</td>\n",
       "      <td>0</td>\n",
       "      <td>0</td>\n",
       "      <td>0</td>\n",
       "      <td>0</td>\n",
       "      <td>0</td>\n",
       "    </tr>\n",
       "    <tr>\n",
       "      <th>4450</th>\n",
       "      <td>1</td>\n",
       "      <td>5.0</td>\n",
       "      <td>16.47</td>\n",
       "      <td>1198.0</td>\n",
       "      <td>74.00</td>\n",
       "      <td>6</td>\n",
       "      <td>0</td>\n",
       "      <td>1</td>\n",
       "      <td>0</td>\n",
       "      <td>1</td>\n",
       "      <td>...</td>\n",
       "      <td>0</td>\n",
       "      <td>0</td>\n",
       "      <td>0</td>\n",
       "      <td>0</td>\n",
       "      <td>0</td>\n",
       "      <td>0</td>\n",
       "      <td>0</td>\n",
       "      <td>0</td>\n",
       "      <td>0</td>\n",
       "      <td>0</td>\n",
       "    </tr>\n",
       "    <tr>\n",
       "      <th>872</th>\n",
       "      <td>3</td>\n",
       "      <td>5.0</td>\n",
       "      <td>15.29</td>\n",
       "      <td>1591.0</td>\n",
       "      <td>121.30</td>\n",
       "      <td>4</td>\n",
       "      <td>0</td>\n",
       "      <td>1</td>\n",
       "      <td>0</td>\n",
       "      <td>1</td>\n",
       "      <td>...</td>\n",
       "      <td>0</td>\n",
       "      <td>0</td>\n",
       "      <td>0</td>\n",
       "      <td>0</td>\n",
       "      <td>0</td>\n",
       "      <td>0</td>\n",
       "      <td>0</td>\n",
       "      <td>0</td>\n",
       "      <td>0</td>\n",
       "      <td>0</td>\n",
       "    </tr>\n",
       "    <tr>\n",
       "      <th>922</th>\n",
       "      <td>6</td>\n",
       "      <td>5.0</td>\n",
       "      <td>24.30</td>\n",
       "      <td>1248.0</td>\n",
       "      <td>88.50</td>\n",
       "      <td>2</td>\n",
       "      <td>1</td>\n",
       "      <td>0</td>\n",
       "      <td>0</td>\n",
       "      <td>1</td>\n",
       "      <td>...</td>\n",
       "      <td>0</td>\n",
       "      <td>0</td>\n",
       "      <td>0</td>\n",
       "      <td>0</td>\n",
       "      <td>0</td>\n",
       "      <td>0</td>\n",
       "      <td>0</td>\n",
       "      <td>0</td>\n",
       "      <td>0</td>\n",
       "      <td>0</td>\n",
       "    </tr>\n",
       "    <tr>\n",
       "      <th>3351</th>\n",
       "      <td>8</td>\n",
       "      <td>5.0</td>\n",
       "      <td>18.00</td>\n",
       "      <td>1497.0</td>\n",
       "      <td>117.30</td>\n",
       "      <td>6</td>\n",
       "      <td>0</td>\n",
       "      <td>1</td>\n",
       "      <td>1</td>\n",
       "      <td>0</td>\n",
       "      <td>...</td>\n",
       "      <td>0</td>\n",
       "      <td>0</td>\n",
       "      <td>0</td>\n",
       "      <td>0</td>\n",
       "      <td>0</td>\n",
       "      <td>0</td>\n",
       "      <td>0</td>\n",
       "      <td>0</td>\n",
       "      <td>0</td>\n",
       "      <td>0</td>\n",
       "    </tr>\n",
       "  </tbody>\n",
       "</table>\n",
       "<p>10 rows × 202 columns</p>\n",
       "</div>"
      ],
      "text/plain": [
       "      KM_Driven  Seats  mileage_new  engine_new  power_new  age  \\\n",
       "1560          9    5.0        22.90      1248.0      74.00    7   \n",
       "1885          2    5.0        14.62      1999.0     149.92    4   \n",
       "2294          9    5.0        23.00      1396.0      90.00    8   \n",
       "79            3    5.0        25.80      1498.0      98.60    5   \n",
       "4081          5    5.0        23.40      1248.0      74.00    5   \n",
       "1022          5    7.0        12.55      2982.0     168.50    5   \n",
       "4450          1    5.0        16.47      1198.0      74.00    6   \n",
       "872           3    5.0        15.29      1591.0     121.30    4   \n",
       "922           6    5.0        24.30      1248.0      88.50    2   \n",
       "3351          8    5.0        18.00      1497.0     117.30    6   \n",
       "\n",
       "      Fuel_Type_Diesel  Fuel_Type_Petrol  Transmission_Automatic  \\\n",
       "1560                 1                 0                       0   \n",
       "1885                 0                 1                       1   \n",
       "2294                 1                 0                       0   \n",
       "79                   1                 0                       0   \n",
       "4081                 1                 0                       0   \n",
       "1022                 1                 0                       1   \n",
       "4450                 0                 1                       0   \n",
       "872                  0                 1                       0   \n",
       "922                  1                 0                       0   \n",
       "3351                 0                 1                       1   \n",
       "\n",
       "      Transmission_Manual  ...  model_xc60  model_xcent  model_xenon  \\\n",
       "1560                    1  ...           0            0            0   \n",
       "1885                    0  ...           0            0            0   \n",
       "2294                    1  ...           0            0            0   \n",
       "79                      1  ...           0            0            0   \n",
       "4081                    1  ...           0            0            0   \n",
       "1022                    0  ...           0            0            0   \n",
       "4450                    1  ...           0            0            0   \n",
       "872                     1  ...           0            0            0   \n",
       "922                     1  ...           0            0            0   \n",
       "3351                    0  ...           0            0            0   \n",
       "\n",
       "      model_xf  model_xuv300  model_xuv500  model_xylo  model_yeti  model_zen  \\\n",
       "1560         0             0             0           0           0          0   \n",
       "1885         0             0             0           0           0          0   \n",
       "2294         0             0             0           0           0          0   \n",
       "79           0             0             0           0           0          0   \n",
       "4081         0             0             0           0           0          0   \n",
       "1022         0             0             0           0           0          0   \n",
       "4450         0             0             0           0           0          0   \n",
       "872          0             0             0           0           0          0   \n",
       "922          0             0             0           0           0          0   \n",
       "3351         0             0             0           0           0          0   \n",
       "\n",
       "      model_zest  \n",
       "1560           0  \n",
       "1885           0  \n",
       "2294           0  \n",
       "79             0  \n",
       "4081           0  \n",
       "1022           0  \n",
       "4450           0  \n",
       "872            0  \n",
       "922            0  \n",
       "3351           0  \n",
       "\n",
       "[10 rows x 202 columns]"
      ]
     },
     "execution_count": 92,
     "metadata": {},
     "output_type": "execute_result"
    }
   ],
   "source": [
    "X_train[0:10]"
   ]
  },
  {
   "cell_type": "code",
   "execution_count": 93,
   "metadata": {},
   "outputs": [
    {
     "data": {
      "text/plain": [
       "(812, 202)"
      ]
     },
     "execution_count": 93,
     "metadata": {},
     "output_type": "execute_result"
    }
   ],
   "source": [
    "X_test.shape"
   ]
  },
  {
   "cell_type": "markdown",
   "metadata": {},
   "source": [
    "### Linear Models\n",
    "\n",
    "Assumes linear relationship between features and outcome variable."
   ]
  },
  {
   "cell_type": "code",
   "execution_count": 94,
   "metadata": {},
   "outputs": [
    {
     "data": {
      "image/png": "[encoded data removed]",
      "text/plain": [
       "<Figure size 360x360 with 1 Axes>"
      ]
     },
     "metadata": {
      "needs_background": "light"
     },
     "output_type": "display_data"
    }
   ],
   "source": [
    "sn.lmplot( data = cars_df.sample(100),\n",
    "           x = 'power_new',\n",
    "           y = 'Price');"
   ]
  },
  {
   "cell_type": "code",
   "execution_count": 95,
   "metadata": {},
   "outputs": [],
   "source": [
    "from sklearn.linear_model import LinearRegression"
   ]
  },
  {
   "cell_type": "code",
   "execution_count": 96,
   "metadata": {},
   "outputs": [],
   "source": [
    "lreg_v1 = LinearRegression()"
   ]
  },
  {
   "cell_type": "code",
   "execution_count": 97,
   "metadata": {},
   "outputs": [
    {
     "data": {
      "text/plain": [
       "LinearRegression()"
      ]
     },
     "execution_count": 97,
     "metadata": {},
     "output_type": "execute_result"
    }
   ],
   "source": [
    "lreg_v1.fit(X_train, y_train)"
   ]
  },
  {
   "cell_type": "markdown",
   "metadata": {},
   "source": [
    "### Understanding model parameters"
   ]
  },
  {
   "cell_type": "code",
   "execution_count": 98,
   "metadata": {},
   "outputs": [
    {
     "data": {
      "text/plain": [
       "12.827171969794911"
      ]
     },
     "execution_count": 98,
     "metadata": {},
     "output_type": "execute_result"
    }
   ],
   "source": [
    "lreg_v1.intercept_"
   ]
  },
  {
   "cell_type": "code",
   "execution_count": 99,
   "metadata": {},
   "outputs": [
    {
     "data": {
      "text/plain": [
       "array([-1.29180547e-01, -1.82669470e-01, -4.70383047e-02, -9.01907889e-04,\n",
       "        3.14237509e-02, -5.84741823e-01,  5.23944018e-01, -5.23944018e-01,\n",
       "        4.12349353e-01, -4.12349353e-01,  2.49698406e-01, -4.09944905e-03,\n",
       "       -2.45598958e-01,  5.16253936e+00,  4.76746606e+00, -3.13195760e+00,\n",
       "       -4.63445101e+00, -3.03103746e+00,  2.87224143e-01, -2.74987514e+00,\n",
       "       -1.96486363e+00, -3.52595311e+00, -1.14128208e-01,  1.54186201e+00,\n",
       "        2.19029690e+00,  3.46370409e+00, -1.88743229e+00, -1.68883985e+00,\n",
       "        3.63831535e+00,  3.90384867e+00,  2.21591422e+00, -1.84534374e+00,\n",
       "       -4.41491288e-12, -2.25992120e+00, -9.73865102e-01, -3.14759675e+00,\n",
       "        2.55206990e+00, -2.46801288e+00,  3.70003728e+00, -1.05035368e-01,\n",
       "        9.05899118e-01,  2.17665871e-01,  6.87099763e-01, -7.66563460e-01,\n",
       "        8.63222147e-01,  2.32933612e-03, -2.02128237e-01, -1.13331550e+00,\n",
       "       -3.82046578e-01, -8.71270927e-02,  9.23304112e-02, -1.36548107e+00,\n",
       "        2.28330800e+00,  3.54347420e+00,  5.25357535e-13,  1.89253101e+00,\n",
       "       -2.53393859e+00,  2.09660848e+00,  2.69430020e-01,  1.49497140e+00,\n",
       "       -1.45450424e-01, -6.02481441e-01, -3.02733863e+00, -1.82445093e+00,\n",
       "       -1.57714905e+00, -1.64411259e+00,  1.53876911e-13, -1.07931654e+00,\n",
       "        1.56170426e-01, -1.21154446e+00, -1.21425127e+00,  9.39007112e-01,\n",
       "       -2.31959981e+00, -1.67134502e-01, -2.06190169e+00,  3.13601860e-01,\n",
       "        4.09548753e+00,  3.31088990e+00, -7.77156117e-15, -2.90210633e+00,\n",
       "       -2.22094727e-01, -3.33820706e-03, -1.17776432e+00, -1.86512358e+00,\n",
       "        2.19029690e+00,  3.90384867e+00, -1.83184863e+00,  5.07806203e+00,\n",
       "        4.45978657e+00, -1.53215316e+00, -1.00875276e+00, -1.14128208e-01,\n",
       "       -7.18394218e-03, -1.11500225e+00,  8.46773984e-01,  5.97582792e-01,\n",
       "       -3.24420856e+00,  3.27981149e+00,  8.05081293e-01,  2.38039613e+00,\n",
       "       -8.27131369e-01, -1.23457615e+00,  3.52253865e-01, -5.53232441e+00,\n",
       "       -2.75180006e+00, -5.07761770e-01, -1.24888342e+00, -5.54196793e-01,\n",
       "        4.26790437e+00, -4.61972708e-01,  3.65406567e+00, -5.96120492e-01,\n",
       "       -6.46406065e-01, -8.90634015e-01,  5.22038881e+00, -3.93971422e-02,\n",
       "        5.11386529e-01, -2.88580133e+00, -2.13962593e+00, -2.19104929e+00,\n",
       "        1.55285105e+00, -1.22521097e+00,  2.13511258e+00,  1.16428407e+00,\n",
       "       -2.68694133e+00, -3.33074786e+00, -1.32205055e+00, -1.06108690e+00,\n",
       "       -3.05035510e-01, -8.88178420e-16, -8.04911693e-16, -1.82067874e+00,\n",
       "       -1.62483838e+00, -8.41197248e-01, -2.40777586e+00,  6.95821212e-01,\n",
       "        1.12502160e+00, -2.27815929e+00,  3.53879658e+00, -2.70449415e+00,\n",
       "        2.87224143e-01, -7.60770542e-01,  2.21591422e+00,  6.40453575e-02,\n",
       "       -9.57737676e-01, -1.24247862e+00,  9.97468141e-01,  3.04061317e-01,\n",
       "       -2.82019057e+00,  3.61972600e+00, -2.15062006e+00, -2.39233662e+00,\n",
       "       -1.64599389e+00, -2.08949502e+00,  3.46370409e+00, -4.01427211e-01,\n",
       "       -7.58096442e-02, -8.86043808e-01,  1.40804205e+00, -8.13648836e-01,\n",
       "        3.99448219e+00, -2.54239896e-01, -1.29545244e+00,  1.71050845e+00,\n",
       "        2.89207987e+00, -8.48613836e-01,  2.62160495e+00,  6.79485965e-01,\n",
       "       -1.14346930e+00,  1.52599779e+00, -1.48061222e+00, -8.76331683e-01,\n",
       "        2.34121101e+00, -3.61454402e-01, -6.37689094e-01,  7.35717671e-01,\n",
       "       -2.21419064e+00, -1.22756051e+00,  9.68221605e+00, -1.02827428e+00,\n",
       "        2.71490622e+00, -6.00130939e-01, -2.90957607e-01, -1.45647208e+00,\n",
       "        8.22583937e-01,  5.11388507e-02, -2.39718462e+00,  0.00000000e+00,\n",
       "        5.46951785e-01,  1.92210744e+00, -1.95460103e+00,  2.16843556e+00,\n",
       "        1.87117486e+00, -5.10826547e-01, -2.73611484e+00,  1.54186201e+00,\n",
       "        1.16239909e+00,  2.51005468e+00, -1.29668669e+00,  1.85811195e-01,\n",
       "       -2.06732795e+00, -1.45975490e+00])"
      ]
     },
     "execution_count": 99,
     "metadata": {},
     "output_type": "execute_result"
    }
   ],
   "source": [
    "lreg_v1.coef_"
   ]
  },
  {
   "cell_type": "code",
   "execution_count": 100,
   "metadata": {},
   "outputs": [
    {
     "data": {
      "text/plain": [
       "{'KM_Driven': -0.129,\n",
       " 'Seats': -0.183,\n",
       " 'mileage_new': -0.047,\n",
       " 'engine_new': -0.001,\n",
       " 'power_new': 0.031,\n",
       " 'age': -0.585,\n",
       " 'Fuel_Type_Diesel': 0.524,\n",
       " 'Fuel_Type_Petrol': -0.524,\n",
       " 'Transmission_Automatic': 0.412,\n",
       " 'Transmission_Manual': -0.412,\n",
       " 'Owner_Type_First': 0.25,\n",
       " 'Owner_Type_Second': -0.004,\n",
       " 'Owner_Type_Third': -0.246,\n",
       " 'make_audi': 5.163,\n",
       " 'make_bmw': 4.767,\n",
       " 'make_chevrolet': -3.132,\n",
       " 'make_datsun': -4.634,\n",
       " 'make_fiat': -3.031,\n",
       " 'make_force': 0.287,\n",
       " 'make_ford': -2.75,\n",
       " 'make_honda': -1.965,\n",
       " 'make_hyundai': -3.526,\n",
       " 'make_isuzu': -0.114,\n",
       " 'make_jaguar': 1.542,\n",
       " 'make_jeep': 2.19,\n",
       " 'make_land': 3.464,\n",
       " 'make_mahindra': -1.887,\n",
       " 'make_maruti': -1.689,\n",
       " 'make_mercedes-benz': 3.638,\n",
       " 'make_mini': 3.904,\n",
       " 'make_mitsubishi': 2.216,\n",
       " 'make_nissan': -1.845,\n",
       " 'make_porsche': -0.0,\n",
       " 'make_renault': -2.26,\n",
       " 'make_skoda': -0.974,\n",
       " 'make_tata': -3.148,\n",
       " 'make_toyota': 2.552,\n",
       " 'make_volkswagen': -2.468,\n",
       " 'make_volvo': 3.7,\n",
       " 'Location_Ahmedabad': -0.105,\n",
       " 'Location_Bangalore': 0.906,\n",
       " 'Location_Chennai': 0.218,\n",
       " 'Location_Coimbatore': 0.687,\n",
       " 'Location_Delhi': -0.767,\n",
       " 'Location_Hyderabad': 0.863,\n",
       " 'Location_Jaipur': 0.002,\n",
       " 'Location_Kochi': -0.202,\n",
       " 'Location_Kolkata': -1.133,\n",
       " 'Location_Mumbai': -0.382,\n",
       " 'Location_Pune': -0.087,\n",
       " 'model_1': 0.092,\n",
       " 'model_3': -1.365,\n",
       " 'model_5': 2.283,\n",
       " 'model_7': 3.543,\n",
       " 'model_800': 0.0,\n",
       " 'model_a': 1.893,\n",
       " 'model_a-star': -2.534,\n",
       " 'model_a3': 2.097,\n",
       " 'model_a4': 0.269,\n",
       " 'model_a6': 1.495,\n",
       " 'model_accent': -0.145,\n",
       " 'model_accord': -0.602,\n",
       " 'model_alto': -3.027,\n",
       " 'model_amaze': -1.824,\n",
       " 'model_ameo': -1.577,\n",
       " 'model_aspire': -1.644,\n",
       " 'model_aveo': 0.0,\n",
       " 'model_avventura': -1.079,\n",
       " 'model_b': 0.156,\n",
       " 'model_baleno': -1.212,\n",
       " 'model_beat': -1.214,\n",
       " 'model_bolero': 0.939,\n",
       " 'model_bolt': -2.32,\n",
       " 'model_br-v': -0.167,\n",
       " 'model_brio': -2.062,\n",
       " 'model_brv': 0.314,\n",
       " 'model_camry': 4.095,\n",
       " 'model_captur': 3.311,\n",
       " 'model_cayenne': -0.0,\n",
       " 'model_celerio': -2.902,\n",
       " 'model_ciaz': -0.222,\n",
       " 'model_city': -0.003,\n",
       " 'model_civic': -1.178,\n",
       " 'model_classic': -1.865,\n",
       " 'model_compass': 2.19,\n",
       " 'model_cooper': 3.904,\n",
       " 'model_corolla': -1.832,\n",
       " 'model_cr-v': 5.078,\n",
       " 'model_creta': 4.46,\n",
       " 'model_crosspolo': -1.532,\n",
       " 'model_cruze': -1.009,\n",
       " 'model_d-max': -0.114,\n",
       " 'model_duster': -0.007,\n",
       " 'model_dzire': -1.115,\n",
       " 'model_e-class': 0.847,\n",
       " 'model_ecosport': 0.598,\n",
       " 'model_eeco': -3.244,\n",
       " 'model_elantra': 3.28,\n",
       " 'model_elite': 0.805,\n",
       " 'model_endeavour': 2.38,\n",
       " 'model_enjoy': -0.827,\n",
       " 'model_eon': -1.235,\n",
       " 'model_ertiga': 0.352,\n",
       " 'model_etios': -5.532,\n",
       " 'model_fabia': -2.752,\n",
       " 'model_fiesta': -0.508,\n",
       " 'model_figo': -1.249,\n",
       " 'model_fluence': -0.554,\n",
       " 'model_fortuner': 4.268,\n",
       " 'model_freestyle': -0.462,\n",
       " 'model_gla': 3.654,\n",
       " 'model_go': -0.596,\n",
       " 'model_grand': -0.646,\n",
       " 'model_grande': -0.891,\n",
       " 'model_hexa': 5.22,\n",
       " 'model_i10': -0.039,\n",
       " 'model_i20': 0.511,\n",
       " 'model_ignis': -2.886,\n",
       " 'model_indica': -2.14,\n",
       " 'model_indigo': -2.191,\n",
       " 'model_innova': 1.553,\n",
       " 'model_jazz': -1.225,\n",
       " 'model_jetta': 2.135,\n",
       " 'model_koleos': 1.164,\n",
       " 'model_kuv': -2.687,\n",
       " 'model_kwid': -3.331,\n",
       " 'model_laura': -1.322,\n",
       " 'model_linea': -1.061,\n",
       " 'model_lodgy': -0.305,\n",
       " 'model_logan': -0.0,\n",
       " 'model_m-class': -0.0,\n",
       " 'model_manza': -1.821,\n",
       " 'model_micra': -1.625,\n",
       " 'model_mobilio': -0.841,\n",
       " 'model_nano': -2.408,\n",
       " 'model_new': 0.696,\n",
       " 'model_nexon': 1.125,\n",
       " 'model_nuvosport': -2.278,\n",
       " 'model_octavia': 3.539,\n",
       " 'model_omni': -2.704,\n",
       " 'model_one': 0.287,\n",
       " 'model_optra': -0.761,\n",
       " 'model_pajero': 2.216,\n",
       " 'model_passat': 0.064,\n",
       " 'model_polo': -0.958,\n",
       " 'model_pulse': -1.242,\n",
       " 'model_q3': 0.997,\n",
       " 'model_q5': 0.304,\n",
       " 'model_quanto': -2.82,\n",
       " 'model_r-class': 3.62,\n",
       " 'model_rapid': -2.151,\n",
       " 'model_redi': -2.392,\n",
       " 'model_redi-go': -1.646,\n",
       " 'model_ritz': -2.089,\n",
       " 'model_rover': 3.464,\n",
       " 'model_s': -0.401,\n",
       " 'model_s-cross': -0.076,\n",
       " 'model_s60': -0.886,\n",
       " 'model_safari': 1.408,\n",
       " 'model_sail': -0.814,\n",
       " 'model_santa': 3.994,\n",
       " 'model_santro': -0.254,\n",
       " 'model_scala': -1.295,\n",
       " 'model_scorpio': 1.711,\n",
       " 'model_sonata': 2.892,\n",
       " 'model_spark': -0.849,\n",
       " 'model_ssangyong': 2.622,\n",
       " 'model_sumo': 0.679,\n",
       " 'model_sunny': -1.143,\n",
       " 'model_superb': 1.526,\n",
       " 'model_swift': -1.481,\n",
       " 'model_sx4': -0.876,\n",
       " 'model_tavera': 2.341,\n",
       " 'model_teana': -0.361,\n",
       " 'model_terrano': -0.638,\n",
       " 'model_thar': 0.736,\n",
       " 'model_tiago': -2.214,\n",
       " 'model_tigor': -1.228,\n",
       " 'model_tucson': 9.682,\n",
       " 'model_tuv': -1.028,\n",
       " 'model_v40': 2.715,\n",
       " 'model_vento': -0.6,\n",
       " 'model_venture': -0.291,\n",
       " 'model_verito': -1.456,\n",
       " 'model_verna': 0.823,\n",
       " 'model_vitara': 0.051,\n",
       " 'model_wagon': -2.397,\n",
       " 'model_wr-v': 0.0,\n",
       " 'model_wrv': 0.547,\n",
       " 'model_x-trail': 1.922,\n",
       " 'model_x1': -1.955,\n",
       " 'model_x3': 2.168,\n",
       " 'model_xc60': 1.871,\n",
       " 'model_xcent': -0.511,\n",
       " 'model_xenon': -2.736,\n",
       " 'model_xf': 1.542,\n",
       " 'model_xuv300': 1.162,\n",
       " 'model_xuv500': 2.51,\n",
       " 'model_xylo': -1.297,\n",
       " 'model_yeti': 0.186,\n",
       " 'model_zen': -2.067,\n",
       " 'model_zest': -1.46}"
      ]
     },
     "execution_count": 100,
     "metadata": {},
     "output_type": "execute_result"
    }
   ],
   "source": [
    "dict(zip(X_train.columns, np.round(lreg_v1.coef_, 3)))"
   ]
  },
  {
   "cell_type": "markdown",
   "metadata": {},
   "source": [
    "### Predict on test set"
   ]
  },
  {
   "cell_type": "code",
   "execution_count": 101,
   "metadata": {},
   "outputs": [],
   "source": [
    "y_pred = lreg_v1.predict(X_test)"
   ]
  },
  {
   "cell_type": "code",
   "execution_count": 102,
   "metadata": {},
   "outputs": [],
   "source": [
    "y_df = pd.DataFrame({\"actual\": y_test,\n",
    "                     \"predicted\": y_pred,\n",
    "                     \"residual\": y_pred - y_test})"
   ]
  },
  {
   "cell_type": "code",
   "execution_count": 103,
   "metadata": {},
   "outputs": [
    {
     "data": {
      "text/html": [
       "<div>\n",
       "<style scoped>\n",
       "    .dataframe tbody tr th:only-of-type {\n",
       "        vertical-align: middle;\n",
       "    }\n",
       "\n",
       "    .dataframe tbody tr th {\n",
       "        vertical-align: top;\n",
       "    }\n",
       "\n",
       "    .dataframe thead th {\n",
       "        text-align: right;\n",
       "    }\n",
       "</style>\n",
       "<table border=\"1\" class=\"dataframe\">\n",
       "  <thead>\n",
       "    <tr style=\"text-align: right;\">\n",
       "      <th></th>\n",
       "      <th>actual</th>\n",
       "      <th>predicted</th>\n",
       "      <th>residual</th>\n",
       "    </tr>\n",
       "  </thead>\n",
       "  <tbody>\n",
       "    <tr>\n",
       "      <th>1314</th>\n",
       "      <td>16.08</td>\n",
       "      <td>12.500828</td>\n",
       "      <td>-3.579172</td>\n",
       "    </tr>\n",
       "    <tr>\n",
       "      <th>136</th>\n",
       "      <td>6.20</td>\n",
       "      <td>6.471453</td>\n",
       "      <td>0.271453</td>\n",
       "    </tr>\n",
       "    <tr>\n",
       "      <th>756</th>\n",
       "      <td>4.80</td>\n",
       "      <td>4.535999</td>\n",
       "      <td>-0.264001</td>\n",
       "    </tr>\n",
       "    <tr>\n",
       "      <th>1581</th>\n",
       "      <td>3.15</td>\n",
       "      <td>3.271525</td>\n",
       "      <td>0.121525</td>\n",
       "    </tr>\n",
       "    <tr>\n",
       "      <th>3327</th>\n",
       "      <td>3.85</td>\n",
       "      <td>2.472583</td>\n",
       "      <td>-1.377417</td>\n",
       "    </tr>\n",
       "    <tr>\n",
       "      <th>4205</th>\n",
       "      <td>2.75</td>\n",
       "      <td>3.364708</td>\n",
       "      <td>0.614708</td>\n",
       "    </tr>\n",
       "    <tr>\n",
       "      <th>4568</th>\n",
       "      <td>2.30</td>\n",
       "      <td>0.773618</td>\n",
       "      <td>-1.526382</td>\n",
       "    </tr>\n",
       "    <tr>\n",
       "      <th>400</th>\n",
       "      <td>12.25</td>\n",
       "      <td>10.069875</td>\n",
       "      <td>-2.180125</td>\n",
       "    </tr>\n",
       "    <tr>\n",
       "      <th>4701</th>\n",
       "      <td>2.80</td>\n",
       "      <td>2.213207</td>\n",
       "      <td>-0.586793</td>\n",
       "    </tr>\n",
       "    <tr>\n",
       "      <th>2958</th>\n",
       "      <td>12.50</td>\n",
       "      <td>13.000705</td>\n",
       "      <td>0.500705</td>\n",
       "    </tr>\n",
       "  </tbody>\n",
       "</table>\n",
       "</div>"
      ],
      "text/plain": [
       "      actual  predicted  residual\n",
       "1314   16.08  12.500828 -3.579172\n",
       "136     6.20   6.471453  0.271453\n",
       "756     4.80   4.535999 -0.264001\n",
       "1581    3.15   3.271525  0.121525\n",
       "3327    3.85   2.472583 -1.377417\n",
       "4205    2.75   3.364708  0.614708\n",
       "4568    2.30   0.773618 -1.526382\n",
       "400    12.25  10.069875 -2.180125\n",
       "4701    2.80   2.213207 -0.586793\n",
       "2958   12.50  13.000705  0.500705"
      ]
     },
     "execution_count": 103,
     "metadata": {},
     "output_type": "execute_result"
    }
   ],
   "source": [
    "y_df.sample(10)"
   ]
  },
  {
   "cell_type": "markdown",
   "metadata": {},
   "source": [
    "### Measuring Accuracy"
   ]
  },
  {
   "cell_type": "code",
   "execution_count": 104,
   "metadata": {},
   "outputs": [],
   "source": [
    "from sklearn.metrics import mean_squared_error, r2_score"
   ]
  },
  {
   "cell_type": "code",
   "execution_count": 105,
   "metadata": {},
   "outputs": [],
   "source": [
    "mse_v1 = mean_squared_error(y_test, y_pred)"
   ]
  },
  {
   "cell_type": "code",
   "execution_count": 106,
   "metadata": {},
   "outputs": [
    {
     "data": {
      "text/plain": [
       "1.65873413747327"
      ]
     },
     "execution_count": 106,
     "metadata": {},
     "output_type": "execute_result"
    }
   ],
   "source": [
    "mse_v1"
   ]
  },
  {
   "cell_type": "code",
   "execution_count": 107,
   "metadata": {},
   "outputs": [],
   "source": [
    "rmse_v1 = np.sqrt(mse_v1)"
   ]
  },
  {
   "cell_type": "code",
   "execution_count": 108,
   "metadata": {},
   "outputs": [
    {
     "data": {
      "text/plain": [
       "1.287918529051147"
      ]
     },
     "execution_count": 108,
     "metadata": {},
     "output_type": "execute_result"
    }
   ],
   "source": [
    "rmse_v1"
   ]
  },
  {
   "cell_type": "code",
   "execution_count": 109,
   "metadata": {},
   "outputs": [
    {
     "data": {
      "text/plain": [
       "0.8822260819200884"
      ]
     },
     "execution_count": 109,
     "metadata": {},
     "output_type": "execute_result"
    }
   ],
   "source": [
    "r2_score(y_test, y_pred)"
   ]
  },
  {
   "cell_type": "code",
   "execution_count": 110,
   "metadata": {},
   "outputs": [
    {
     "name": "stderr",
     "output_type": "stream",
     "text": [
      "/Users/susmahad/anaconda/envs/py38/lib/python3.8/site-packages/seaborn/distributions.py:2557: FutureWarning: `distplot` is a deprecated function and will be removed in a future version. Please adapt your code to use either `displot` (a figure-level function with similar flexibility) or `histplot` (an axes-level function for histograms).\n",
      "  warnings.warn(msg, FutureWarning)\n"
     ]
    },
    {
     "data": {
      "text/plain": [
       "<AxesSubplot:xlabel='Price', ylabel='Density'>"
      ]
     },
     "execution_count": 110,
     "metadata": {},
     "output_type": "execute_result"
    },
    {
     "data": {
      "image/png": "[encoded data removed]",
      "text/plain": [
       "<Figure size 432x288 with 1 Axes>"
      ]
     },
     "metadata": {
      "needs_background": "light"
     },
     "output_type": "display_data"
    }
   ],
   "source": [
    "sn.distplot(cars_df.Price)"
   ]
  },
  {
   "cell_type": "markdown",
   "metadata": {},
   "source": [
    "### Preprocessing data based on business context"
   ]
  },
  {
   "cell_type": "markdown",
   "metadata": {},
   "source": [
    "1. Removing all cars prior to 2011\n",
    "2. Making an adjustment to price based on inflation rate. But we need to know the year of sale (not available)\n",
    "3. Adding the car model as a feature (need to prepare data properly)\n",
    "4. Taking log of the price (as price is skewed distribution)"
   ]
  },
  {
   "cell_type": "markdown",
   "metadata": {},
   "source": [
    "### What are the reasons for the remaining error\n",
    "\n",
    "1. More factors \n",
    "2. More samples \n",
    "3. Complex Models : Try other models\n",
    "4. Feature Engineering - Derive new features (factors) from existing features (factors)\n",
    "5. Noise (randomness)\n",
    "   "
   ]
  },
  {
   "cell_type": "markdown",
   "metadata": {},
   "source": [
    "### Cross Validation"
   ]
  },
  {
   "cell_type": "code",
   "execution_count": 111,
   "metadata": {},
   "outputs": [],
   "source": [
    "from sklearn.model_selection import cross_val_score"
   ]
  },
  {
   "cell_type": "code",
   "execution_count": 130,
   "metadata": {},
   "outputs": [],
   "source": [
    "scores = cross_val_score(LinearRegression(),\n",
    "                         X_train,\n",
    "                         y_train,\n",
    "                         cv = 10,\n",
    "                         scoring = 'r2')"
   ]
  },
  {
   "cell_type": "code",
   "execution_count": 131,
   "metadata": {},
   "outputs": [
    {
     "data": {
      "text/plain": [
       "array([-1.91857690e+00, -1.61886641e+00, -1.79271996e+00, -1.20791234e+00,\n",
       "       -6.48315136e+12, -4.69353343e+15, -1.29124931e+00, -1.57582423e+00,\n",
       "       -1.11756375e+00, -9.96892134e-01])"
      ]
     },
     "execution_count": 131,
     "metadata": {},
     "output_type": "execute_result"
    }
   ],
   "source": [
    "scores"
   ]
  },
  {
   "cell_type": "code",
   "execution_count": 132,
   "metadata": {},
   "outputs": [
    {
     "data": {
      "text/plain": [
       "-470001658565222.0"
      ]
     },
     "execution_count": 132,
     "metadata": {},
     "output_type": "execute_result"
    }
   ],
   "source": [
    "scores.mean()"
   ]
  },
  {
   "cell_type": "code",
   "execution_count": 133,
   "metadata": {},
   "outputs": [
    {
     "data": {
      "text/plain": [
       "1407845252131964.8"
      ]
     },
     "execution_count": 133,
     "metadata": {},
     "output_type": "execute_result"
    }
   ],
   "source": [
    "scores.std()"
   ]
  },
  {
   "cell_type": "markdown",
   "metadata": {},
   "source": [
    "### Saving the model"
   ]
  },
  {
   "cell_type": "code",
   "execution_count": 116,
   "metadata": {},
   "outputs": [],
   "source": [
    "class CarPredictionModel():\n",
    "    \n",
    "    def __init__(self, model, features, rmse):\n",
    "        self.model = model\n",
    "        self.features = features\n",
    "        self.rmse = rmse"
   ]
  },
  {
   "cell_type": "code",
   "execution_count": 117,
   "metadata": {},
   "outputs": [],
   "source": [
    "my_model = CarPredictionModel(lreg_v1, list(X_train.columns), rmse_v1)"
   ]
  },
  {
   "cell_type": "code",
   "execution_count": 118,
   "metadata": {},
   "outputs": [],
   "source": [
    "# Uncomment this code for older version of sklearn\n",
    "#from sklearn.externals import joblib\n",
    "#joblib.dump(my_model, './cars.pkl')"
   ]
  },
  {
   "cell_type": "code",
   "execution_count": 119,
   "metadata": {},
   "outputs": [],
   "source": [
    "from joblib import dump"
   ]
  },
  {
   "cell_type": "code",
   "execution_count": 120,
   "metadata": {},
   "outputs": [
    {
     "data": {
      "text/plain": [
       "['./cars.pkl']"
      ]
     },
     "execution_count": 120,
     "metadata": {},
     "output_type": "execute_result"
    }
   ],
   "source": [
    "dump(my_model, './cars.pkl')"
   ]
  },
  {
   "cell_type": "markdown",
   "metadata": {},
   "source": [
    "### Tasks"
   ]
  },
  {
   "cell_type": "markdown",
   "metadata": {},
   "source": [
    "1. Removing all cars prior to 2011\n",
    "2. Add age as numerical variable\n",
    "3. Build a new model\n",
    "4. Predict on test set and measure the accuracy (RMSE and R Squared values)\n",
    "5. Do the cross Validation and find the mean and std of the r2 values"
   ]
  }
 ],
 "metadata": {
  "kernelspec": {
   "display_name": "Python 3",
   "language": "python",
   "name": "python3"
  },
  "language_info": {
   "codemirror_mode": {
    "name": "ipython",
    "version": 3
   },
   "file_extension": ".py",
   "mimetype": "text/x-python",
   "name": "python",
   "nbconvert_exporter": "python",
   "pygments_lexer": "ipython3",
   "version": "3.8.8"
  }
 },
 "nbformat": 4,
 "nbformat_minor": 4
}
